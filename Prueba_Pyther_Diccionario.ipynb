{
  "nbformat": 4,
  "nbformat_minor": 0,
  "metadata": {
    "colab": {
      "provenance": [],
      "collapsed_sections": []
    },
    "kernelspec": {
      "name": "python3",
      "display_name": "Python 3"
    },
    "language_info": {
      "name": "python"
    }
  },
  "cells": [
    {
      "cell_type": "markdown",
      "source": [
        "#Generar factura\n",
        "\n",
        "#Cuanto gano el restaurante al dia, cuanto combos se vendieron de cada uno\n",
        "\n",
        "#Precios:\n",
        "\n",
        "Combo 1: 20000\n",
        "2: 25000\n",
        "3:18000\n",
        "4:24500\n",
        "Papas: 3000\n",
        "Jugos: 7000\n",
        "Cerveza: 3500\n",
        "Agua: 4000\n",
        "Gaseosas: 2500\n"
      ],
      "metadata": {
        "id": "6zMiGpz-wnoM"
      }
    },
    {
      "cell_type": "code",
      "execution_count": 16,
      "metadata": {
        "id": "qyRFPOAnuFpT"
      },
      "outputs": [],
      "source": [
        "precios={\"COMBO 1\":20000,\"COMBO 2\":25000,\"COMBO 3\":18000, \"COMBO 4\":24500, \"PAPAS\":3000,\"JUGOS\":7000 ,\"CERVEZA\":3500, \"AGUA\":4000, \"GASEOSAS\":2500 }"
      ]
    },
    {
      "cell_type": "code",
      "source": [
        "precios"
      ],
      "metadata": {
        "colab": {
          "base_uri": "https://localhost:8080/"
        },
        "id": "fQqQDooDxb__",
        "outputId": "4f32042b-c0c4-4678-f629-d0a8d166d7d0"
      },
      "execution_count": 12,
      "outputs": [
        {
          "output_type": "execute_result",
          "data": {
            "text/plain": [
              "{'Combo 1': 20000,\n",
              " 'Combo 2': 25000,\n",
              " 'Combo 3': 18000,\n",
              " 'Combo 4': 24500,\n",
              " 'Papas': 3000,\n",
              " 'Jugos': 7000,\n",
              " 'Cerveza': 3500,\n",
              " 'Agua': 4000,\n",
              " 'Gaseosas': 2500}"
            ]
          },
          "metadata": {},
          "execution_count": 12
        }
      ]
    },
    {
      "cell_type": "code",
      "source": [
        "precios={\"COMBO 1\":20000,\"COMBO 2\":25000,\"COMBO 3\":18000, \"COMBO 4\":24500, \"PAPAS\":3000,\"JUGOS\":7000 ,\"CERVEZA\":3500, \"AGUA\":4000, \"GASEOSAS\":2500 }\n",
        "print(\"---Menú---\")\n",
        "print(precios)\n",
        "\n",
        "factura={}\n",
        "total=0\n",
        "total_dia=0\n",
        "while True:\n",
        "  factura={}\n",
        "  while True:\n",
        "    a=input(\"¿Qué desea ordenar? \")\n",
        "    b=int(input(\"¿Qué cantidad? \"))\n",
        "    a=a.upper()\n",
        "\n",
        "    c=precios.get(a)*b  \n",
        "    total+=c\n",
        "    #total+=precios.get(a)\n",
        "    \n",
        "    print(c)\n",
        "    #print(precios.get(a))\n",
        "    total_dia+=c\n",
        "    #total_dia+=precios.get(a)\n",
        "    factura[a]=c\n",
        "    #factura[a]=precios.get(a)\n",
        "\n",
        "    print(\"\")\n",
        "    sn=input(\"¿Desea ordenar algo más? Si/No: \")\n",
        "    \n",
        "    if sn.upper()==\"NO\":\n",
        "      print(\"Factura:\")\n",
        "      print(factura)\n",
        "      print(\"Total a pagar: $\",total)\n",
        "      total=0\n",
        "      del factura\n",
        "      break\n",
        "    else:\n",
        "      continue\n",
        "  nc=input(\"¿Nuevo cliente? Si/No :\")\n",
        "  if nc.upper()==\"NO\":\n",
        "    print(\"\")\n",
        "    print(\"Ganancias totales del dia: $\",total_dia)\n",
        "    break\n",
        "  else:\n",
        "    continue\n"
      ],
      "metadata": {
        "colab": {
          "base_uri": "https://localhost:8080/"
        },
        "id": "K5oA5wHnyyti",
        "outputId": "f5c01ffa-73e8-4cb8-90a6-f4624dabbdfc"
      },
      "execution_count": 80,
      "outputs": [
        {
          "output_type": "stream",
          "name": "stdout",
          "text": [
            "---Menú---\n",
            "{'COMBO 1': 20000, 'COMBO 2': 25000, 'COMBO 3': 18000, 'COMBO 4': 24500, 'PAPAS': 3000, 'JUGOS': 7000, 'CERVEZA': 3500, 'AGUA': 4000, 'GASEOSAS': 2500}\n",
            "¿Qué desea ordenar? papas\n",
            "¿Qué cantidad? 2\n",
            "6000\n",
            "\n",
            "¿Desea ordenar algo más? Si/No: si\n",
            "¿Qué desea ordenar? agua\n",
            "¿Qué cantidad? 1\n",
            "4000\n",
            "\n",
            "¿Desea ordenar algo más? Si/No: no\n",
            "Factura:\n",
            "{'PAPAS': 6000, 'AGUA': 4000}\n",
            "Total a pagar: $ 10000\n",
            "¿Nuevo cliente? Si/No :si\n",
            "¿Qué desea ordenar? combo 3\n",
            "¿Qué cantidad? 2\n",
            "36000\n",
            "\n",
            "¿Desea ordenar algo más? Si/No: no\n",
            "Factura:\n",
            "{'COMBO 3': 36000}\n",
            "Total a pagar: $ 36000\n",
            "¿Nuevo cliente? Si/No :no\n",
            "\n",
            "Ganancias totales del dia: $ 46000\n"
          ]
        }
      ]
    }
  ]
}